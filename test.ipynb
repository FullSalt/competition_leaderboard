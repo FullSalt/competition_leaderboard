{
 "cells": [
  {
   "attachments": {},
   "cell_type": "markdown",
   "metadata": {},
   "source": [
    "# 確認用 ipynb"
   ]
  },
  {
   "attachments": {},
   "cell_type": "markdown",
   "metadata": {},
   "source": [
    "## パスワード設定"
   ]
  },
  {
   "attachments": {},
   "cell_type": "markdown",
   "metadata": {},
   "source": [
    "1"
   ]
  },
  {
   "cell_type": "code",
<<<<<<< HEAD
   "execution_count": 7,
=======
   "execution_count": 9,
>>>>>>> develop
   "metadata": {},
   "outputs": [
    {
     "data": {
      "text/plain": [
<<<<<<< HEAD
       "['$2b$12$skwu4Jr4JFGGswlCEXiHw.DdrZsSLua0TKjDEtDph9JdrkSx87FKu']"
      ]
     },
     "execution_count": 7,
=======
       "['$2b$12$dL2XmdeTcynqmceX31oFX.X7CkWS3dFez9.iNpL9teyrkGktyO8iq']"
      ]
     },
     "execution_count": 9,
>>>>>>> develop
     "metadata": {},
     "output_type": "execute_result"
    }
   ],
   "source": [
    "import streamlit_authenticator as stauth\n",
    "stauth.Hasher(['']).generate()"
   ]
  },
  {
   "attachments": {},
   "cell_type": "markdown",
   "metadata": {},
   "source": [
    "## 各CSVファイルの読み込み"
   ]
  },
  {
   "cell_type": "code",
   "execution_count": 18,
   "metadata": {},
   "outputs": [
    {
     "name": "stdout",
     "output_type": "stream",
     "text": [
      "ok\n"
     ]
    }
   ],
   "source": [
    "ranking_df = pd.read_csv('ranking.csv')\n",
    "# 特定の値の値をとる列を抽出\n",
    "\n",
    "if ranking_df[ranking_df['Name'] == 'test2']['Recall'].values[0] == 100.0:\n",
    "    print('ok')\n"
   ]
  },
  {
   "cell_type": "code",
   "execution_count": 8,
   "metadata": {},
   "outputs": [
    {
     "data": {
      "text/plain": [
       "str"
      ]
     },
     "execution_count": 8,
     "metadata": {},
     "output_type": "execute_result"
    }
   ],
   "source": [
    "import pandas as pd\n",
    "type(pd.read_csv('info.csv', header=None, index_col=0).squeeze(\"columns\")['group_filter'])"
   ]
  },
  {
   "cell_type": "code",
   "execution_count": 9,
   "metadata": {},
   "outputs": [
    {
     "data": {
      "text/plain": [
       "True"
      ]
     },
     "execution_count": 9,
     "metadata": {},
     "output_type": "execute_result"
    }
   ],
   "source": [
    "bool(pd.read_csv('info.csv', header=None, index_col=0).squeeze(\"columns\")['group_filter'])"
   ]
  },
  {
   "cell_type": "code",
   "execution_count": 2,
   "metadata": {},
   "outputs": [
    {
     "data": {
      "text/plain": [
       "True"
      ]
     },
     "execution_count": 2,
     "metadata": {},
     "output_type": "execute_result"
    }
   ],
   "source": [
    "bool(int('1'))"
   ]
  },
  {
   "cell_type": "code",
   "execution_count": 3,
   "metadata": {},
   "outputs": [
    {
     "data": {
      "text/plain": [
       "'2023-06-18 17:47:47'"
      ]
     },
     "execution_count": 3,
     "metadata": {},
     "output_type": "execute_result"
    }
   ],
   "source": [
    "# 時間を記録する\n",
    "import datetime\n",
    "# 日本の現在時刻を取得\n",
    "\n",
    "datetime.datetime.now().strftime('%Y-%m-%d %H:%M:%S')"
   ]
<<<<<<< HEAD
=======
  },
  {
   "cell_type": "code",
   "execution_count": 11,
   "metadata": {},
   "outputs": [
    {
     "data": {
      "text/plain": [
       "{'competition': [{'competition_name': 'Bank Marketing',\n",
       "   'competition_dir': 'bankmarketing',\n",
       "   'class': 'class'},\n",
       "  {'competition_name': 'Titanic',\n",
       "   'competition_dir': 'titanic',\n",
       "   'class': 'Survived'}]}"
      ]
     },
     "execution_count": 11,
     "metadata": {},
     "output_type": "execute_result"
    }
   ],
   "source": [
    "import json\n",
    "\n",
    "load_comp_info = json.load(open('config.json', 'r'))\n",
    "load_comp_info"
   ]
  },
  {
   "cell_type": "code",
   "execution_count": 12,
   "metadata": {},
   "outputs": [
    {
     "data": {
      "text/plain": [
       "[{'competition_name': 'Bank Marketing',\n",
       "  'competition_dir': 'bankmarketing',\n",
       "  'class': 'class'},\n",
       " {'competition_name': 'Titanic',\n",
       "  'competition_dir': 'titanic',\n",
       "  'class': 'Survived'}]"
      ]
     },
     "execution_count": 12,
     "metadata": {},
     "output_type": "execute_result"
    }
   ],
   "source": [
    "load_comp_info['competition']"
   ]
  },
  {
   "cell_type": "code",
   "execution_count": 18,
   "metadata": {},
   "outputs": [
    {
     "data": {
      "text/plain": [
       "0"
      ]
     },
     "execution_count": 18,
     "metadata": {},
     "output_type": "execute_result"
    }
   ],
   "source": [
    "# load_comp_info['competition'] の中の value が 'Bank Marketing' と一致する index を取得\n",
    "index = next((i for i, item in enumerate(load_comp_info['competition']) if item['competition_name'] == 'Bank Marketing'), None)\n",
    "index"
   ]
  },
  {
   "cell_type": "code",
   "execution_count": 19,
   "metadata": {},
   "outputs": [
    {
     "data": {
      "text/plain": [
       "{'competition_name': 'Bank Marketing',\n",
       " 'competition_dir': 'bankmarketing',\n",
       " 'class': 'class'}"
      ]
     },
     "execution_count": 19,
     "metadata": {},
     "output_type": "execute_result"
    }
   ],
   "source": [
    "load_comp_info['competition'][index]"
   ]
>>>>>>> develop
  }
 ],
 "metadata": {
  "kernelspec": {
   "display_name": "streamlit",
   "language": "python",
   "name": "python3"
  },
  "language_info": {
   "codemirror_mode": {
    "name": "ipython",
    "version": 3
   },
   "file_extension": ".py",
   "mimetype": "text/x-python",
   "name": "python",
   "nbconvert_exporter": "python",
   "pygments_lexer": "ipython3",
   "version": "3.9.13"
  },
  "orig_nbformat": 4
 },
 "nbformat": 4,
 "nbformat_minor": 2
}
